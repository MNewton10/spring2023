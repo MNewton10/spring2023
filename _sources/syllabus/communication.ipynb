{
 "cells": [
  {
   "cell_type": "markdown",
   "id": "293259bd",
   "metadata": {},
   "source": [
    "# Office Hours & Communication"
   ]
  },
  {
   "cell_type": "code",
   "execution_count": 1,
   "id": "d529979f",
   "metadata": {
    "tags": [
     "remove-input"
    ]
   },
   "outputs": [],
   "source": [
    "import pandas as pd\n",
    "from IPython.display import display, Markdown, HTML\n",
    "pd.set_option('display.max_colwidth', 0)\n",
    "# df = pd.read_csv('../_data/communication.csv')\n",
    "\n",
    "help_df = pd.read_csv('../_data/help_hours.csv')"
   ]
  },
  {
   "cell_type": "markdown",
   "id": "05971d30",
   "metadata": {},
   "source": [
    "## Announcements\n",
    "\n",
    "Announcements will be made via GitHub Release. You can view them [online in the releases page](https://github.com/introcompsys/spring2023/releases) or you can get notifications by watching the repository, choosing \"Releases\" under custom [see GitHub docs for instructions with screenshots](https://docs.github.com/en/account-and-profile/managing-subscriptions-and-notifications-on-github/setting-up-notifications/configuring-notifications#configuring-your-watch-settings-for-an-individual-repository). You can choose GitHub only or e-mail notificaiton [from the notification settings page](https://github.com/settings/notifications)\n",
    "\n",
    "```{warning}\n",
    "For the first few classes they will be made by BrightSpace too, but that will stop\n",
    "```\n",
    "\n",
    "\n",
    "````{admonition} Sign up to watch\n",
    ":class: community, dropdown\n",
    "\n",
    "Watch the repo and then create a file called `community.md` in your kwl repo and add a link to this section, like: \n",
    "```\n",
    "- [watched the repo as per announcements](https://introcompsys.github.io/spring2023/syllabus/communication.html#announcements) \n",
    "```\n",
    "put this on a branch called `watch_community_badge` and title your PR \"Community-Watch\"\n",
    "````\n",
    "\n",
    "## Help Hours"
   ]
  },
  {
   "cell_type": "code",
   "execution_count": 2,
   "id": "7dc787c1",
   "metadata": {
    "tags": [
     "remove-input"
    ]
   },
   "outputs": [
    {
     "name": "stderr",
     "output_type": "stream",
     "text": [
      "/tmp/ipykernel_1815/2146052215.py:1: FutureWarning: this method is deprecated in favour of `Styler.hide(axis=\"index\")`\n",
      "  help_df.style.hide_index()\n"
     ]
    },
    {
     "data": {
      "text/html": [
       "<style type=\"text/css\">\n",
       "</style>\n",
       "<table id=\"T_4fcf0\">\n",
       "  <thead>\n",
       "    <tr>\n",
       "      <th id=\"T_4fcf0_level0_col0\" class=\"col_heading level0 col0\" >day</th>\n",
       "      <th id=\"T_4fcf0_level0_col1\" class=\"col_heading level0 col1\" > time</th>\n",
       "      <th id=\"T_4fcf0_level0_col2\" class=\"col_heading level0 col2\" > location</th>\n",
       "      <th id=\"T_4fcf0_level0_col3\" class=\"col_heading level0 col3\" > host </th>\n",
       "    </tr>\n",
       "  </thead>\n",
       "  <tbody>\n",
       "    <tr>\n",
       "      <td id=\"T_4fcf0_row0_col0\" class=\"data row0 col0\" >TBA</td>\n",
       "      <td id=\"T_4fcf0_row0_col1\" class=\"data row0 col1\" > TBA</td>\n",
       "      <td id=\"T_4fcf0_row0_col2\" class=\"data row0 col2\" > TBA</td>\n",
       "      <td id=\"T_4fcf0_row0_col3\" class=\"data row0 col3\" > Dr. Brown </td>\n",
       "    </tr>\n",
       "    <tr>\n",
       "      <td id=\"T_4fcf0_row1_col0\" class=\"data row1 col0\" >Monday/Wednesday</td>\n",
       "      <td id=\"T_4fcf0_row1_col1\" class=\"data row1 col1\" > 10:00-12:00</td>\n",
       "      <td id=\"T_4fcf0_row1_col2\" class=\"data row1 col2\" > Zoom</td>\n",
       "      <td id=\"T_4fcf0_row1_col3\" class=\"data row1 col3\" > Mark </td>\n",
       "    </tr>\n",
       "    <tr>\n",
       "      <td id=\"T_4fcf0_row2_col0\" class=\"data row2 col0\" >Tuesday/Thursday</td>\n",
       "      <td id=\"T_4fcf0_row2_col1\" class=\"data row2 col1\" > 5:00-7:00</td>\n",
       "      <td id=\"T_4fcf0_row2_col2\" class=\"data row2 col2\" > Zoom</td>\n",
       "      <td id=\"T_4fcf0_row2_col3\" class=\"data row2 col3\" > Marcin </td>\n",
       "    </tr>\n",
       "  </tbody>\n",
       "</table>\n"
      ],
      "text/plain": [
       "<pandas.io.formats.style.Styler at 0x7f210cf7ef40>"
      ]
     },
     "execution_count": 2,
     "metadata": {},
     "output_type": "execute_result"
    }
   ],
   "source": [
    "help_df.style.hide_index()"
   ]
  },
  {
   "cell_type": "markdown",
   "id": "c443cf8d",
   "metadata": {},
   "source": [
    "Online office hours locations are linked on the [GitHub Organization Page](https://github.com/introcompsys)\n",
    "\n",
    "```{important}\n",
    "You can only see them if you are a \"member\" to join, use the \"Whole Class Discussion\" link in prismia. \n",
    "```\n",
    "<!-- \n",
    "## Getting Help \n",
    "\n",
    "- E-mail the instructor and TAs: `cscsystools-help-group@uri.edu`\n",
    "- Post an issue to the course website\n",
    "-  -->\n",
    "\n",
    "<!--\n",
    "Online office hours locations are linked in the #help channel on slack\n",
    "We have several different ways to communicate in this course. This section summarizes them -->\n",
    "\n",
    "<!--\n",
    "## To reach out, By usage\n",
    "\n",
    "```{code-cell}\n",
    ":tags: [\"remove-input\"]\n",
    "\n",
    "df = df[['usage','platform','area','note']]\n",
    "display(HTML(df.style.hide_index()._repr_html_()))\n",
    "```\n",
    "\n",
    "```{note}\n",
    "e-mail is last because it's not collaborative; other platforms allow us (Proessor + TA) to collaborate on who responds to things more easily.\n",
    "```\n",
    "\n",
    "## By Platform\n",
    "\n",
    "```{code-cell}\n",
    ":tags: [\"remove-input\"]\n",
    "\n",
    "for platform, data in df.groupby('platform'):\n",
    "    display(HTML('<h3> Use '+ platform + ' for </h3>'))\n",
    "    display(HTML(data.drop(columns='platform').style.hide_index()._repr_html_()))\n",
    "\n",
    "``` -->\n",
    "\n",
    "## Tips\n",
    "\n",
    "### For assignment help\n",
    "\n",
    "- **send in advance, leave time for a response** I check e-mail/github a small number of times per day, during work hours, almost exclusively. You might see me post to this site, post to BrightSpace, or comment on your assignments outside of my normal working hours, but I will not reliably see emails that arrive during those hours. This means that it is important to start assignments early.\n",
    "\n",
    "### Using issues\n",
    "\n",
    "- use issues for content directly related to assignments.  If you push your code to the repository and then open an issue, I can see your code and your question at the same time and download it to run it if I need to debug it\n",
    "- use issues for questions about this syllabus or class notes. At the top right there's a GitHub logo {fa}`github` that allows you to open a issue (for a question) or suggest an edit (eg if you think there's a tpo or you find an additional helpful resource related to something)\n",
    "\n",
    "\n",
    "```{admonition} ... \n",
    ":class: anchor,dropdown\n",
    "\n",
    "You can submit a pull request for the typo above, but be sure to check the pull request tab of the repo before submitting to see if it has already been submitted.\n",
    "```\n",
    "\n",
    "### For E-mail\n",
    "\n",
    "- use e-mail for general inquiries or notifications\n",
    "- Please include `[CSC392]`  in the subject line of your email along with the topic of your message. This is important, because your messages are important, but I also get a lot of e-mail. Consider these a cheat code to my inbox: I have setup a filter that will flag your e-mail if you include that in subject to ensure that I see it.\n",
    "\n",
    "```{admonition} Should you e-mail your work? \n",
    ":class: anchor,dropdown\n",
    "\n",
    "No, request a pull request review or make an issue if you are stuck\n",
    "```"
   ]
  }
 ],
 "metadata": {
  "jupytext": {
   "text_representation": {
    "extension": ".md",
    "format_name": "myst",
    "format_version": 0.13,
    "jupytext_version": "1.10.3"
   }
  },
  "kernelspec": {
   "display_name": "Python 3",
   "language": "python",
   "name": "python3"
  },
  "language_info": {
   "codemirror_mode": {
    "name": "ipython",
    "version": 3
   },
   "file_extension": ".py",
   "mimetype": "text/x-python",
   "name": "python",
   "nbconvert_exporter": "python",
   "pygments_lexer": "ipython3",
   "version": "3.8.16"
  },
  "source_map": [
   12,
   20,
   29,
   53,
   57
  ]
 },
 "nbformat": 4,
 "nbformat_minor": 5
}