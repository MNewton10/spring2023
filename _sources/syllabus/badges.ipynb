{
 "cells": [
  {
   "cell_type": "markdown",
   "id": "a8ce1e8d",
   "metadata": {},
   "source": [
    "# (experimental) Badge Visualizations \n",
    "\n",
    "\n",
    "## Badge stat\n",
    "```{warning}\n",
    "this is not guaranteed to stay up to date with current, but the listed date is accurate. \n",
    "You can see the code that generates the figure behind the \"click to show\" button.  It is  Python code that you should be able to run anywhere with the required libraries installed. \n",
    "```"
   ]
  },
  {
   "cell_type": "code",
   "execution_count": 1,
   "id": "07373b0c",
   "metadata": {
    "tags": [
     "hide-input"
    ]
   },
   "outputs": [
    {
     "ename": "ModuleNotFoundError",
     "evalue": "No module named 'seaborn'",
     "output_type": "error",
     "traceback": [
      "\u001b[0;31m---------------------------------------------------------------------------\u001b[0m",
      "\u001b[0;31mModuleNotFoundError\u001b[0m                       Traceback (most recent call last)",
      "Cell \u001b[0;32mIn[1], line 7\u001b[0m\n\u001b[1;32m      5\u001b[0m \u001b[38;5;28;01mimport\u001b[39;00m \u001b[38;5;21;01mpandas\u001b[39;00m \u001b[38;5;28;01mas\u001b[39;00m \u001b[38;5;21;01mpd\u001b[39;00m\n\u001b[1;32m      6\u001b[0m \u001b[38;5;28;01mimport\u001b[39;00m \u001b[38;5;21;01mnumpy\u001b[39;00m \u001b[38;5;28;01mas\u001b[39;00m \u001b[38;5;21;01mnp\u001b[39;00m\n\u001b[0;32m----> 7\u001b[0m \u001b[38;5;28;01mimport\u001b[39;00m \u001b[38;5;21;01mseaborn\u001b[39;00m \u001b[38;5;28;01mas\u001b[39;00m \u001b[38;5;21;01msns\u001b[39;00m\n\u001b[1;32m      8\u001b[0m \u001b[38;5;28;01mfrom\u001b[39;00m \u001b[38;5;21;01mmyst_nb\u001b[39;00m \u001b[38;5;28;01mimport\u001b[39;00m glue\n\u001b[1;32m      9\u001b[0m \u001b[38;5;66;03m# style note: when I wrote this code, it was not all one cell. I merged the cells\u001b[39;00m\n\u001b[1;32m     10\u001b[0m \u001b[38;5;66;03m# for display on the course website, since Python is not the main outcome of this course\u001b[39;00m\n\u001b[1;32m     11\u001b[0m \n\u001b[1;32m     12\u001b[0m \u001b[38;5;66;03m# semester settings\u001b[39;00m\n",
      "\u001b[0;31mModuleNotFoundError\u001b[0m: No module named 'seaborn'"
     ]
    }
   ],
   "source": [
    "%matplotlib inline\n",
    "import os\n",
    "from datetime import date,timedelta\n",
    "import calendar\n",
    "import pandas as pd\n",
    "import numpy as np\n",
    "import seaborn as sns\n",
    "from myst_nb import glue\n",
    "# style note: when I wrote this code, it was not all one cell. I merged the cells\n",
    "# for display on the course website, since Python is not the main outcome of this course\n",
    "\n",
    "# semester settings\n",
    "first_day = date(2023,1,24)\n",
    "last_day = date(2023,5,1)\n",
    "meeting_days =[1,3] # datetime has 0=Monday\n",
    "spring_break = (date(2023,3,11),date(2023,3,19))\n",
    "penalty_free_end = date(2023, 2, 9)\n",
    "\n",
    "\n",
    "# enumerate weeks\n",
    "weeks = int((last_day-first_day).days/7+1)\n",
    "\n",
    "# create differences\n",
    "mtg_delta = timedelta(meeting_days[1]-meeting_days[0])\n",
    "week_delta = timedelta(7)\n",
    "\n",
    "# function to check if a date is during spring break\n",
    "during_sb = lambda d: spring_break[0]<d<spring_break[1]\n",
    "\n",
    "# generate the number of weeks worth of dates\n",
    "possible = [(first_day+week_delta*w, first_day+mtg_delta+week_delta*w) for w in range(weeks)]\n",
    "# rm spring break dates\n",
    "weekly_meetings = [[c1,c2] for c1,c2 in possible if not(during_sb(c1))]\n",
    "#unpack into single list\n",
    "meetings = [m for w in weekly_meetings for m in w]\n",
    "\n",
    "\n",
    "# build a table for the dates\n",
    "badge_types = ['experience', 'review', 'practice']\n",
    "target_cols = ['review_target','practice_target']\n",
    "df_cols = badge_types + target_cols\n",
    "badge_target_df = pd.DataFrame(index=meetings, data=[['future']*len(df_cols)]*len(meetings),\n",
    "                                columns=df_cols).reset_index().rename(\n",
    "                                   columns={'index': 'date'})\n",
    "# set relative dates\n",
    "today = date.today()\n",
    "start_deadline = date.today() - timedelta(7)\n",
    "complete_deadline = date.today() - timedelta(14)\n",
    "\n",
    "# mark eligible experience badges\n",
    "badge_target_df['experience'][badge_target_df['date'] <= today] = 'eligible'\n",
    "# mark targets, cascading from most recent to oldest to not have to check < and >\n",
    "badge_target_df['review_target'][badge_target_df['date'] <= today] = 'active'\n",
    "badge_target_df['practice_target'][badge_target_df['date'] <= today] = 'active'\n",
    "badge_target_df['review_target'][badge_target_df['date']\n",
    "                          <= start_deadline] = 'started'\n",
    "badge_target_df['practice_target'][badge_target_df['date']\n",
    "                            <= start_deadline] = 'started'\n",
    "badge_target_df['review_target'][badge_target_df['date']\n",
    "                          <= complete_deadline] = 'completed'\n",
    "badge_target_df['practice_target'][badge_target_df['date']\n",
    "                            <= complete_deadline] = 'completed'\n",
    "# mark enforced deadlines\n",
    "badge_target_df['review'][badge_target_df['date'] <= today] = 'active'\n",
    "badge_target_df['practice'][badge_target_df['date'] <= today] = 'active'\n",
    "badge_target_df['review'][badge_target_df['date']\n",
    "                          <= start_deadline] = 'started'\n",
    "badge_target_df['practice'][badge_target_df['date']\n",
    "                            <= start_deadline] = 'started'\n",
    "badge_target_df['review'][badge_target_df['date']\n",
    "                          <= complete_deadline] = 'completed'\n",
    "badge_target_df['practice'][badge_target_df['date']\n",
    "                            <= complete_deadline] = 'completed'\n",
    "badge_target_df['review'][badge_target_df['date']\n",
    "                          <= penalty_free_end] = 'penalty free'\n",
    "badge_target_df['practice'][badge_target_df['date']\n",
    "                          <= penalty_free_end] = 'penalty free'\n",
    "\n",
    "# convert to numbers and set dates as index for heatmap compatibility\n",
    "status_numbers_hm = {status:i+1 for i,status in enumerate(['future','eligible','active','penalty free','started','completed'])}\n",
    "badge_target_df_hm = badge_target_df.replace(status_numbers_hm).set_index('date')\n",
    "\n",
    "# set column names to shorter ones to fit better\n",
    "badge_target_df_hm = badge_target_df_hm.rename(columns={'review':'review(e)','practice':'practice(e)',\n",
    "                                                       'review_target':'review(t)','practice_target':'practice(t)',})\n",
    "# build a custom color bar \n",
    "n_statuses = len(status_numbers_hm.keys())\n",
    "manual_palette = [sns.color_palette(\"pastel\", 10)[7],\n",
    "                 sns.color_palette(\"colorblind\", 10)[2],\n",
    "                 sns.color_palette(\"muted\", 10)[2],\n",
    "                 sns.color_palette(\"colorblind\", 10)[9],\n",
    "                 sns.color_palette(\"colorblind\", 10)[8],\n",
    "                 sns.color_palette(\"colorblind\", 10)[3]]\n",
    "# generate the figure, with the colorbar and spacing\n",
    "ax = sns.heatmap(badge_target_df_hm,cmap=manual_palette,linewidths=1)\n",
    "# mote titles from bottom tot op\n",
    "ax.xaxis.tick_top()\n",
    "# pull the colorbar object for handling\n",
    "colorbar = ax.collections[0].colorbar \n",
    "# fix the location fo the labels on the colorbar\n",
    "r = colorbar.vmax - colorbar.vmin \n",
    "colorbar.set_ticks([colorbar.vmin + r / n_statuses * (0.5 + i) for i in range(n_statuses)])\n",
    "colorbar.set_ticklabels(list(status_numbers_hm.keys()))\n",
    "# add a title\n",
    "today_string = today.isoformat()\n",
    "glue('today',today_string,display=False)\n",
    "glue('today_notdisplayed',\"not today\",display=False)\n",
    "ax.set_title('Badge Status as of '+ today_string); "
   ]
  },
  {
   "cell_type": "markdown",
   "id": "227c7f8c",
   "metadata": {},
   "source": [
    "The (e) columns are what will be enforced, the (t) columns is ideal, see the [deadlines section of the syllabus for more on the statuses](rp-status) for more detail. \n",
    "\n",
    "The following table shows, as of  {glue:}`today`, the number of badges with each status."
   ]
  },
  {
   "cell_type": "code",
   "execution_count": 2,
   "id": "7ec3a0a5",
   "metadata": {
    "tags": [
     "hide-input"
    ]
   },
   "outputs": [
    {
     "ename": "NameError",
     "evalue": "name 'badge_target_df' is not defined",
     "output_type": "error",
     "traceback": [
      "\u001b[0;31m---------------------------------------------------------------------------\u001b[0m",
      "\u001b[0;31mNameError\u001b[0m                                 Traceback (most recent call last)",
      "Cell \u001b[0;32mIn[1], line 2\u001b[0m\n\u001b[1;32m      1\u001b[0m status_list_summary \u001b[38;5;241m=\u001b[39m [\u001b[38;5;124m'\u001b[39m\u001b[38;5;124meligible\u001b[39m\u001b[38;5;124m'\u001b[39m, \u001b[38;5;124m'\u001b[39m\u001b[38;5;124mpenalty free\u001b[39m\u001b[38;5;124m'\u001b[39m, \u001b[38;5;124m'\u001b[39m\u001b[38;5;124mactive\u001b[39m\u001b[38;5;124m'\u001b[39m, \u001b[38;5;124m'\u001b[39m\u001b[38;5;124mstarted\u001b[39m\u001b[38;5;124m'\u001b[39m, \u001b[38;5;124m'\u001b[39m\u001b[38;5;124mcompleted\u001b[39m\u001b[38;5;124m'\u001b[39m]\n\u001b[0;32m----> 2\u001b[0m badge_count_df \u001b[38;5;241m=\u001b[39m \u001b[43mbadge_target_df\u001b[49m[badge_target_df[\u001b[38;5;124m'\u001b[39m\u001b[38;5;124mdate\u001b[39m\u001b[38;5;124m'\u001b[39m]\u001b[38;5;241m<\u001b[39mtoday]\u001b[38;5;241m.\u001b[39mapply(pd\u001b[38;5;241m.\u001b[39mvalue_counts)\u001b[38;5;241m.\u001b[39mloc[status_list_summary]\u001b[38;5;241m.\u001b[39mdrop(\n\u001b[1;32m      3\u001b[0m                     columns\u001b[38;5;241m=\u001b[39m\u001b[38;5;124m'\u001b[39m\u001b[38;5;124mdate\u001b[39m\u001b[38;5;124m'\u001b[39m)\u001b[38;5;241m.\u001b[39mfillna(\u001b[38;5;124m'\u001b[39m\u001b[38;5;124m \u001b[39m\u001b[38;5;124m'\u001b[39m)\n\u001b[1;32m      5\u001b[0m glue(\u001b[38;5;124m'\u001b[39m\u001b[38;5;124mexp_ontrack\u001b[39m\u001b[38;5;124m'\u001b[39m,\u001b[38;5;28mint\u001b[39m(badge_count_df\u001b[38;5;241m.\u001b[39mloc[\u001b[38;5;124m'\u001b[39m\u001b[38;5;124meligible\u001b[39m\u001b[38;5;124m'\u001b[39m,\u001b[38;5;124m'\u001b[39m\u001b[38;5;124mexperience\u001b[39m\u001b[38;5;124m'\u001b[39m]),display\u001b[38;5;241m=\u001b[39m\u001b[38;5;28;01mFalse\u001b[39;00m)\n\u001b[1;32m      6\u001b[0m glue(\u001b[38;5;124m'\u001b[39m\u001b[38;5;124mexp_min\u001b[39m\u001b[38;5;124m'\u001b[39m,\u001b[38;5;28mint\u001b[39m(badge_count_df\u001b[38;5;241m.\u001b[39mloc[\u001b[38;5;124m'\u001b[39m\u001b[38;5;124meligible\u001b[39m\u001b[38;5;124m'\u001b[39m,\u001b[38;5;124m'\u001b[39m\u001b[38;5;124mexperience\u001b[39m\u001b[38;5;124m'\u001b[39m]\u001b[38;5;241m-\u001b[39m\u001b[38;5;241m3\u001b[39m),display\u001b[38;5;241m=\u001b[39m\u001b[38;5;28;01mFalse\u001b[39;00m)\n",
      "\u001b[0;31mNameError\u001b[0m: name 'badge_target_df' is not defined"
     ]
    }
   ],
   "source": [
    "status_list_summary = ['eligible', 'penalty free', 'active', 'started', 'completed']\n",
    "badge_count_df = badge_target_df[badge_target_df['date']<today].apply(pd.value_counts).loc[status_list_summary].drop(\n",
    "                    columns='date').fillna(' ')\n",
    "\n",
    "glue('exp_ontrack',int(badge_count_df.loc['eligible','experience']),display=False)\n",
    "glue('exp_min',int(badge_count_df.loc['eligible','experience']-3),display=False)\n",
    "glue('rp_completed',int(badge_count_df.loc['completed','review_target']),display=False)\n",
    "glue('rp_started',int(badge_count_df.loc['started','review_target']),display=False)\n",
    "badge_count_df"
   ]
  },
  {
   "cell_type": "markdown",
   "id": "c3b5e7f2",
   "metadata": {},
   "source": [
    "````{margin}\n",
    "```{note}\n",
    "This date is formatted like this because it comes from the code\n",
    "```\n",
    "```{important}\n",
    "Remember, there will be 26 badge opportunities, but do not need all of them.  See the [](badgecounts) section of the syllabus for how they map into letter grades\n",
    "```\n",
    "````\n",
    "\n",
    "\n",
    "This means that, as of {glue:}`today` you are fully caught up if you have:\n",
    "-  {glue:}`exp_ontrack` experience badges submitted. \n",
    "-  {glue:}`rp_completed` total review and practice badges completed.\n",
    "-  {glue:}`rp_started` additional review and/or practice badges started and in progress. \n",
    "\n",
    "\n",
    "Notes: \n",
    "-  If you do not have at least {glue:}`exp_min` experience badges earned, you should visit office hours to get caught up. \n",
    "-  There are are 6 review and practice badges that are from the penalty free zone, so they never expire. \n",
    "-  Most of your experience and completed badges should be earned, but there is no deadline to fix issues with them. \n",
    "\n",
    "\n",
    "## Prepare work and Experience Badges\n",
    "\n",
    "This is for a single example with specific dates, but it is similar for all future dates\n",
    "\n",
    "The columns (and purple boxes) correspond to branches in your KWL repo and the yellow boxes are the things that you have to do. The \"critical\" box is what you hvae to wait for us on. The arrows represent PRs (or a local merge for the first one)\n",
    "\n",
    "```{mermaid}\n",
    "sequenceDiagram\n",
    "    participant P as prepare Feb 7\n",
    "    participant E as experience Feb 9\n",
    "    participant M as main \n",
    "    note over P: complete prepare work<br/> between feb 7 and 9\n",
    "    note over E: run experience badge workflow <br/> at the end of class feb 9\n",
    "    P ->> E: local merge or PR you that <br/> does not need approval\n",
    "    note over E: fill in experience reflection \n",
    "    critical Badge review by instructor or TA\n",
    "        E ->> M: Experience badge PR\n",
    "    option if edits requested\n",
    "        note over E: make requested edits\n",
    "    option when approved \n",
    "        note over M: merge badge PR\n",
    "    end\n",
    "```"
   ]
  }
 ],
 "metadata": {
  "jupytext": {
   "text_representation": {
    "extension": ".md",
    "format_name": "myst",
    "format_version": 0.13,
    "jupytext_version": "1.10.3"
   }
  },
  "kernelspec": {
   "display_name": "Python 3",
   "language": "python",
   "name": "python3"
  },
  "language_info": {
   "codemirror_mode": {
    "name": "ipython",
    "version": 3
   },
   "file_extension": ".py",
   "mimetype": "text/x-python",
   "name": "python",
   "nbconvert_exporter": "python",
   "pygments_lexer": "ipython3",
   "version": "3.8.16"
  },
  "source_map": [
   12,
   23,
   134,
   139,
   151
  ]
 },
 "nbformat": 4,
 "nbformat_minor": 5
}